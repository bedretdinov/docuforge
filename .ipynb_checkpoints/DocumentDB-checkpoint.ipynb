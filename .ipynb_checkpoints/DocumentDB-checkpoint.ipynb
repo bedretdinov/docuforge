{
 "cells": [
  {
   "cell_type": "code",
   "execution_count": 1,
   "id": "ce5f3e9a-4473-4ea1-a0c9-1e86ea0d1010",
   "metadata": {},
   "outputs": [],
   "source": [
    "from docuforge import DocuForge, FieldExpr"
   ]
  },
  {
   "cell_type": "code",
   "execution_count": 2,
   "id": "b774ce24-6272-47cc-a0af-a5db56e14170",
   "metadata": {},
   "outputs": [
    {
     "name": "stdout",
     "output_type": "stream",
     "text": [
      "False\n",
      "True\n",
      "True\n"
     ]
    }
   ],
   "source": [
    "f = FieldExpr(\"name\")\n",
    "doc = {\"age\": 25, \"name\": \"Alice\", \"tags\": [\"a\", \"b\", \"c\"]}\n",
    "\n",
    "print(f.isin(['DS', 25]).test(doc)) \n",
    "print(FieldExpr(\"name\").startswith(\"Al\").test(doc)) # True\n",
    "print(FieldExpr(\"tags\").len_eq(3).test(doc))  # True"
   ]
  },
  {
   "cell_type": "code",
   "execution_count": null,
   "id": "d89559d0-0b54-4177-98f0-280e4d4859ca",
   "metadata": {},
   "outputs": [],
   "source": []
  },
  {
   "cell_type": "code",
   "execution_count": 10,
   "id": "a6e56bd5-cc3a-4f50-b19b-9aa3cac8d363",
   "metadata": {},
   "outputs": [
    {
     "name": "stdout",
     "output_type": "stream",
     "text": [
      "Inserted: b4d97f03-dbe3-45bc-a2ae-de26b016cbc0\n"
     ]
    }
   ],
   "source": [
    "db = DocuForge(db_path='data3')\n",
    "users_cll = db.users\n",
    "user_id = users_cll.insert_one({\"name\": \"DF\", \"age\": 56})\n",
    "print(\"Inserted:\", user_id)"
   ]
  },
  {
   "cell_type": "code",
   "execution_count": null,
   "id": "7a5b7134-ab77-46f4-8752-69d7cdf5d566",
   "metadata": {},
   "outputs": [],
   "source": []
  },
  {
   "cell_type": "code",
   "execution_count": 13,
   "id": "036b9c76-98d1-4f4b-b0bc-378e848572bf",
   "metadata": {},
   "outputs": [
    {
     "data": {
      "text/plain": [
       "[{'_id': 'b4d97f03-dbe3-45bc-a2ae-de26b016cbc0',\n",
       "  'name': 'DF',\n",
       "  'age': 56,\n",
       "  '_op': 'insert'}]"
      ]
     },
     "execution_count": 13,
     "metadata": {},
     "output_type": "execute_result"
    }
   ],
   "source": [
    "results = users_cll.find(\n",
    "    users_cll.name.startswith('D')\n",
    ")\n",
    "\n",
    "list(results)"
   ]
  },
  {
   "cell_type": "code",
   "execution_count": null,
   "id": "765a6361-0298-4760-a861-5e12f05cd852",
   "metadata": {},
   "outputs": [],
   "source": []
  },
  {
   "cell_type": "code",
   "execution_count": 6,
   "id": "de23370b-060b-4ce3-9c10-b3fdba971316",
   "metadata": {},
   "outputs": [],
   "source": []
  },
  {
   "cell_type": "code",
   "execution_count": null,
   "id": "514081fe-cad5-4e05-8e1b-ccc891a0b328",
   "metadata": {},
   "outputs": [],
   "source": []
  }
 ],
 "metadata": {
  "kernelspec": {
   "display_name": "Python 3 (ipykernel)",
   "language": "python",
   "name": "python3"
  },
  "language_info": {
   "codemirror_mode": {
    "name": "ipython",
    "version": 3
   },
   "file_extension": ".py",
   "mimetype": "text/x-python",
   "name": "python",
   "nbconvert_exporter": "python",
   "pygments_lexer": "ipython3",
   "version": "3.12.2"
  }
 },
 "nbformat": 4,
 "nbformat_minor": 5
}
